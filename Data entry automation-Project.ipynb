{
 "cells": [
  {
   "cell_type": "code",
   "execution_count": 1,
   "id": "9f1f4f2e",
   "metadata": {},
   "outputs": [],
   "source": [
    "import requests\n",
    "from bs4 import BeautifulSoup\n",
    "import lxml"
   ]
  },
  {
   "cell_type": "code",
   "execution_count": 2,
   "id": "9d32f8b3",
   "metadata": {},
   "outputs": [],
   "source": [
    "url = 'https://www.zillow.com/homes/for_rent/1-_beds/?searchQueryState=%7B%22pagination%22%3A%7B%7D%2C%22usersSearchTerm%22%3Anull%2C%22mapBounds%22%3A%7B%22west%22%3A-122.56276167822266%2C%22east%22%3A-122.30389632177734%2C%22south%22%3A37.69261345230467%2C%22north%22%3A37.857877098316834%7D%2C%22isMapVisible%22%3Atrue%2C%22filterState%22%3A%7B%22fr%22%3A%7B%22value%22%3Atrue%7D%2C%22fsba%22%3A%7B%22value%22%3Afalse%7D%2C%22fsbo%22%3A%7B%22value%22%3Afalse%7D%2C%22nc%22%3A%7B%22value%22%3Afalse%7D%2C%22cmsn%22%3A%7B%22value%22%3Afalse%7D%2C%22auc%22%3A%7B%22value%22%3Afalse%7D%2C%22fore%22%3A%7B%22value%22%3Afalse%7D%2C%22pmf%22%3A%7B%22value%22%3Afalse%7D%2C%22pf%22%3A%7B%22value%22%3Afalse%7D%2C%22mp%22%3A%7B%22max%22%3A3000%7D%2C%22price%22%3A%7B%22max%22%3A872627%7D%2C%22beds%22%3A%7B%22min%22%3A1%7D%7D%2C%22isListVisible%22%3Atrue%2C%22mapZoom%22%3A12%7D'"
   ]
  },
  {
   "cell_type": "code",
   "execution_count": 3,
   "id": "a1bf1a4c",
   "metadata": {},
   "outputs": [],
   "source": [
    "header = {\n",
    "    'User-Agent':'#',\n",
    "    'Accept-Language':'#'\n",
    "}"
   ]
  },
  {
   "cell_type": "code",
   "execution_count": 4,
   "id": "4617df9b",
   "metadata": {},
   "outputs": [],
   "source": [
    "response = requests.get(url, headers= header)"
   ]
  },
  {
   "cell_type": "code",
   "execution_count": 5,
   "id": "deeadacb",
   "metadata": {},
   "outputs": [],
   "source": [
    "content = response.text"
   ]
  },
  {
   "cell_type": "code",
   "execution_count": 6,
   "id": "1fbfbecd",
   "metadata": {},
   "outputs": [],
   "source": [
    "soup = BeautifulSoup(content, 'lxml')"
   ]
  },
  {
   "cell_type": "code",
   "execution_count": 7,
   "id": "bd9d0079",
   "metadata": {},
   "outputs": [],
   "source": [
    "house_links_tags = soup.select('.list-card-info a')"
   ]
  },
  {
   "cell_type": "code",
   "execution_count": 8,
   "id": "4ddcd223",
   "metadata": {},
   "outputs": [],
   "source": [
    "house_links = []\n",
    "for link in house_links_tags:\n",
    "    href = link['href']\n",
    "    if 'https' not in href:\n",
    "        house_links.append(f\"https://www.zillow.com{href}\")\n",
    "    else:\n",
    "        house_links.append(href)"
   ]
  },
  {
   "cell_type": "code",
   "execution_count": 9,
   "id": "a549bd74",
   "metadata": {},
   "outputs": [
    {
     "data": {
      "text/plain": [
       "['https://www.zillow.com/homedetails/544-Irving-St-San-Francisco-CA-94122/2063507445_zpid/',\n",
       " 'https://www.zillow.com/homedetails/1432-Lombard-St-4-San-Francisco-CA-94123/2073092774_zpid/',\n",
       " 'https://www.zillow.com/homedetails/1142-Hyde-St-3-San-Francisco-CA-94109/2063509005_zpid/',\n",
       " 'https://www.zillow.com/homedetails/229-21st-Ave-APT-5-San-Francisco-CA-94121/2063509208_zpid/',\n",
       " 'https://www.zillow.com/homedetails/722A-Palmetto-Ave-San-Francisco-CA-94132/2068656293_zpid/',\n",
       " 'https://www.zillow.com/homedetails/1830-Alemany-Blvd-203-San-Francisco-CA-94112/2064091965_zpid/',\n",
       " 'https://www.zillow.com/homedetails/770-Oak-St-3-San-Francisco-CA-94117/2063510592_zpid/',\n",
       " 'https://www.zillow.com/b/1177-market-at-trinity-place-san-francisco-ca-BNjvdD/',\n",
       " 'https://www.zillow.com/homedetails/1250-Taylor-St-327AEB3B2-San-Francisco-CA-94108/2066515022_zpid/']"
      ]
     },
     "execution_count": 9,
     "metadata": {},
     "output_type": "execute_result"
    }
   ],
   "source": [
    "house_links"
   ]
  },
  {
   "cell_type": "code",
   "execution_count": 10,
   "id": "e3588fbd",
   "metadata": {},
   "outputs": [],
   "source": [
    "house_prices_tags = soup.find_all(class_ = 'list-card-price')"
   ]
  },
  {
   "cell_type": "code",
   "execution_count": 11,
   "id": "34361d22",
   "metadata": {},
   "outputs": [],
   "source": [
    "house_prices = []\n",
    "for price in house_prices_tags:\n",
    "    house_prices.append(price.getText())"
   ]
  },
  {
   "cell_type": "code",
   "execution_count": 12,
   "id": "e0c88e3c",
   "metadata": {},
   "outputs": [],
   "source": [
    "house_addresses_tags = soup.select('.list-card-info address')"
   ]
  },
  {
   "cell_type": "code",
   "execution_count": 13,
   "id": "3f95629a",
   "metadata": {},
   "outputs": [],
   "source": [
    "house_addresses = []\n",
    "for address in house_addresses_tags:\n",
    "    house_addresses.append(address.getText())"
   ]
  },
  {
   "cell_type": "code",
   "execution_count": 14,
   "id": "d89c8d0e",
   "metadata": {},
   "outputs": [
    {
     "data": {
      "text/plain": [
       "['1 bed, 842 sqft, $2,395, 544 Irving St, San Francisco, CA 94122',\n",
       " '1432 Lombard St #4, San Francisco, CA 94123',\n",
       " '1142 Hyde St #3, San Francisco, CA 94109',\n",
       " '229 21st Ave APT 5, San Francisco, CA 94121',\n",
       " '722A Palmetto Ave, San Francisco, CA 94132',\n",
       " '1830 Alemany Blvd., 1830 Alemany Blvd #203, San Francisco, CA 94112',\n",
       " '770 Oak St #3, San Francisco, CA 94117',\n",
       " '1177 Market at Trinity Place | 1177 Market St, San Francisco, CA',\n",
       " '1250 Taylor St, 1250 Taylor St, San Francisco, CA 94108']"
      ]
     },
     "execution_count": 14,
     "metadata": {},
     "output_type": "execute_result"
    }
   ],
   "source": [
    "house_addresses"
   ]
  },
  {
   "cell_type": "code",
   "execution_count": 15,
   "id": "0f95dcd3",
   "metadata": {},
   "outputs": [
    {
     "data": {
      "text/plain": [
       "['$2,395/mo',\n",
       " '$2,600/mo',\n",
       " '$2,600/mo',\n",
       " '$2,700/mo',\n",
       " '$1,650/mo',\n",
       " '$2,250/mo',\n",
       " '$2,450/mo',\n",
       " '$2,399+ 1 bd',\n",
       " '$2,450+/mo']"
      ]
     },
     "execution_count": 15,
     "metadata": {},
     "output_type": "execute_result"
    }
   ],
   "source": [
    "house_prices"
   ]
  },
  {
   "cell_type": "code",
   "execution_count": 16,
   "id": "968e5a6e",
   "metadata": {},
   "outputs": [
    {
     "data": {
      "text/plain": [
       "['https://www.zillow.com/homedetails/544-Irving-St-San-Francisco-CA-94122/2063507445_zpid/',\n",
       " 'https://www.zillow.com/homedetails/1432-Lombard-St-4-San-Francisco-CA-94123/2073092774_zpid/',\n",
       " 'https://www.zillow.com/homedetails/1142-Hyde-St-3-San-Francisco-CA-94109/2063509005_zpid/',\n",
       " 'https://www.zillow.com/homedetails/229-21st-Ave-APT-5-San-Francisco-CA-94121/2063509208_zpid/',\n",
       " 'https://www.zillow.com/homedetails/722A-Palmetto-Ave-San-Francisco-CA-94132/2068656293_zpid/',\n",
       " 'https://www.zillow.com/homedetails/1830-Alemany-Blvd-203-San-Francisco-CA-94112/2064091965_zpid/',\n",
       " 'https://www.zillow.com/homedetails/770-Oak-St-3-San-Francisco-CA-94117/2063510592_zpid/',\n",
       " 'https://www.zillow.com/b/1177-market-at-trinity-place-san-francisco-ca-BNjvdD/',\n",
       " 'https://www.zillow.com/homedetails/1250-Taylor-St-327AEB3B2-San-Francisco-CA-94108/2066515022_zpid/']"
      ]
     },
     "execution_count": 16,
     "metadata": {},
     "output_type": "execute_result"
    }
   ],
   "source": [
    "house_links"
   ]
  },
  {
   "cell_type": "code",
   "execution_count": 17,
   "id": "01b5dbf6",
   "metadata": {},
   "outputs": [],
   "source": [
    "from selenium import webdriver\n",
    "from selenium.webdriver.common.keys import Keys"
   ]
  },
  {
   "cell_type": "code",
   "execution_count": 18,
   "id": "1f1a652e",
   "metadata": {},
   "outputs": [],
   "source": [
    "google_form_link = 'https://forms.gle/JKyuuU7Yjie6wbVy8'"
   ]
  },
  {
   "cell_type": "code",
   "execution_count": 19,
   "id": "bc7ec177",
   "metadata": {},
   "outputs": [],
   "source": [
    "chrome_driver_path = 'C:/Developement/chromedriver.exe'"
   ]
  },
  {
   "cell_type": "code",
   "execution_count": 20,
   "id": "09ae9411",
   "metadata": {},
   "outputs": [],
   "source": [
    "driver = webdriver.Chrome(executable_path=chrome_driver_path)"
   ]
  },
  {
   "cell_type": "code",
   "execution_count": null,
   "id": "9127147e",
   "metadata": {},
   "outputs": [],
   "source": [
    "for i in range(0, len(house_links)):\n",
    "    driver.get(google_form_link)\n",
    "    address = driver.find_element_by_xpath('//*[@id=\"mG61Hd\"]/div[2]/div/div[2]/div[1]/div/div/div[2]/div/div[1]/div/div[1]/input')\n",
    "    price = driver.find_element_by_xpath('//*[@id=\"mG61Hd\"]/div[2]/div/div[2]/div[2]/div/div/div[2]/div/div[1]/div/div[1]/input')\n",
    "    link = driver.find_element_by_xpath('//*[@id=\"mG61Hd\"]/div[2]/div/div[2]/div[3]/div/div/div[2]/div/div[1]/div/div[1]/input')\n",
    "    submit = driver.find_element_by_xpath('//*[@id=\"mG61Hd\"]/div[2]/div/div[3]/div[1]/div[1]/div/span/span')\n",
    "    \n",
    "    address.send_keys(house_addresses[i])\n",
    "    price.send_keys(house_prices[i])\n",
    "    link.send_keys(house_links[i])\n",
    "    submit.click()"
   ]
  },
  {
   "cell_type": "code",
   "execution_count": null,
   "id": "4776c660",
   "metadata": {},
   "outputs": [],
   "source": [
    "driver.quit()"
   ]
  },
  {
   "cell_type": "code",
   "execution_count": null,
   "id": "4e5f9e08",
   "metadata": {},
   "outputs": [],
   "source": []
  }
 ],
 "metadata": {
  "kernelspec": {
   "display_name": "Python 3 (ipykernel)",
   "language": "python",
   "name": "python3"
  },
  "language_info": {
   "codemirror_mode": {
    "name": "ipython",
    "version": 3
   },
   "file_extension": ".py",
   "mimetype": "text/x-python",
   "name": "python",
   "nbconvert_exporter": "python",
   "pygments_lexer": "ipython3",
   "version": "3.9.7"
  }
 },
 "nbformat": 4,
 "nbformat_minor": 5
}
